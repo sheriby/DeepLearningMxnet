{
 "cells": [
  {
   "cell_type": "markdown",
   "metadata": {},
   "source": [
    "## Multilayer Perceptron Implemented By Gluon"
   ]
  },
  {
   "cell_type": "code",
   "execution_count": 3,
   "metadata": {},
   "outputs": [],
   "source": [
    "from mxnet.gluon import loss as gloss, nn # nn is neural network\n",
    "from mxnet import gluon, init # init is to initialize the weight and bias\n",
    "import d2lzh as d2l\n",
    "import utils"
   ]
  },
  {
   "cell_type": "markdown",
   "metadata": {},
   "source": [
    "### Define Model"
   ]
  },
  {
   "cell_type": "code",
   "execution_count": 2,
   "metadata": {},
   "outputs": [],
   "source": [
    "net = nn.Sequential() # it is a container\n",
    "net.add(nn.Dense(256, activation='relu'), nn.Dense(10)) # use relu as activation function\n",
    "net.initialize(init.Normal(sigma=0.01)) # initialize the weight parameters"
   ]
  },
  {
   "cell_type": "markdown",
   "metadata": {},
   "source": [
    "### Train Model"
   ]
  },
  {
   "cell_type": "code",
   "execution_count": 6,
   "metadata": {},
   "outputs": [
    {
     "name": "stdout",
     "output_type": "stream",
     "text": [
      "epoch 1, loss 0.7985, train acc 0.700, test acc 0.825\n",
      "epoch 2, loss 0.4889, train acc 0.819, test acc 0.845\n",
      "epoch 3, loss 0.4294, train acc 0.840, test acc 0.860\n",
      "epoch 4, loss 0.3905, train acc 0.856, test acc 0.871\n",
      "epoch 5, loss 0.3657, train acc 0.866, test acc 0.874\n"
     ]
    }
   ],
   "source": [
    "batch_size = 256\n",
    "train_iter, test_iter = utils.load_data_fashion_mnist(batch_size) # get data iter\n",
    "\n",
    "loss = gloss.SoftmaxCrossEntropyLoss() # git softmax cross entropy loss function\n",
    "trainer = gluon.Trainer(net.collect_params(), 'sgd', {'learning_rate': 0.5}) # get stochastic gradient descent\n",
    "\n",
    "num_epochs = 5 # number of iterations\n",
    "d2l.train_ch3(net, train_iter, test_iter, loss, num_epochs, batch_size, trainer=trainer) # start training"
   ]
  }
 ],
 "metadata": {
  "kernelspec": {
   "display_name": "Python 3",
   "language": "python",
   "name": "python3"
  },
  "language_info": {
   "codemirror_mode": {
    "name": "ipython",
    "version": 3
   },
   "file_extension": ".py",
   "mimetype": "text/x-python",
   "name": "python",
   "nbconvert_exporter": "python",
   "pygments_lexer": "ipython3",
   "version": "3.6.2"
  }
 },
 "nbformat": 4,
 "nbformat_minor": 4
}
