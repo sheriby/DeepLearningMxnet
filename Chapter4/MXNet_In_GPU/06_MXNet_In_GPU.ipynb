{
 "cells": [
  {
   "cell_type": "markdown",
   "metadata": {},
   "source": [
    "# MXNet In GPU\n",
    "Above all, there is at least a GPU in your computer, and then you can use MXNet in GPU. There is none `Graphics Card` in most of MacBook, so it is impossible to do GPU calculation. However, you can do it in cluod computer by using `ssh`.\n",
    "You must download `NVIDIA cuda` if you have a `NVIDIA Graphics Card`, and then download corresponding version of `MXNet`(**Uninstall the MXNet version without GPU first**).\n",
    "For example, I have a Graphics Card NVIDIA MX150. Therefore I download `cuda10.0` and `mxnet-cuda100`. "
   ]
  },
  {
   "cell_type": "code",
   "execution_count": 2,
   "metadata": {},
   "outputs": [
    {
     "data": {
      "text/plain": [
       "(cpu(0), gpu(0))"
      ]
     },
     "execution_count": 2,
     "metadata": {},
     "output_type": "execute_result"
    }
   ],
   "source": [
    "import mxnet as mx\n",
    "from mxnet import nd\n",
    "from mxnet.gluon import nn\n",
    "\n",
    "mx.cpu(), mx.gpu() # cup(0) and gpu(0)\n",
    "# if having more cpu and gpu, you can also use `cpu(1)`, `gpu(1)`, `gpu(2)` and so on."
   ]
  },
  {
   "cell_type": "code",
   "execution_count": 4,
   "metadata": {},
   "outputs": [
    {
     "data": {
      "text/plain": [
       "\n",
       "[1. 2. 3.]\n",
       "<NDArray 3 @cpu(0)>"
      ]
     },
     "execution_count": 4,
     "metadata": {},
     "output_type": "execute_result"
    }
   ],
   "source": [
    "x = nd.array([1, 2, 3])\n",
    "x # ndarray is in cpu(0) defaultly!"
   ]
  },
  {
   "cell_type": "code",
   "execution_count": 5,
   "metadata": {},
   "outputs": [
    {
     "data": {
      "text/plain": [
       "cpu(0)"
      ]
     },
     "execution_count": 5,
     "metadata": {},
     "output_type": "execute_result"
    }
   ],
   "source": [
    "x.context # use `context` to get which device it in."
   ]
  },
  {
   "cell_type": "markdown",
   "metadata": {},
   "source": [
    "## Store In GPU"
   ]
  },
  {
   "cell_type": "code",
   "execution_count": 6,
   "metadata": {},
   "outputs": [
    {
     "data": {
      "text/plain": [
       "\n",
       "[1. 2. 3.]\n",
       "<NDArray 3 @gpu(0)>"
      ]
     },
     "execution_count": 6,
     "metadata": {},
     "output_type": "execute_result"
    }
   ],
   "source": [
    "a = nd.array([1, 2, 3], ctx=mx.gpu()) \n",
    "# use `ctx`, which is the abbreviation of `context`, to specify storage device \n",
    "a"
   ]
  },
  {
   "cell_type": "code",
   "execution_count": 7,
   "metadata": {},
   "outputs": [],
   "source": [
    "y = x.copyto(mx.gpu()) # copy data from cpu to gpu\n",
    "# This operation is time-consuming. However, in many cases, we have to copy data from cpu to gpu.\n",
    "# such as printing ndarray or transfering ndarray to numpy and so on."
   ]
  },
  {
   "cell_type": "code",
   "execution_count": 9,
   "metadata": {},
   "outputs": [
    {
     "data": {
      "text/plain": [
       "\n",
       "[1. 2. 3.]\n",
       "<NDArray 3 @gpu(0)>"
      ]
     },
     "execution_count": 9,
     "metadata": {},
     "output_type": "execute_result"
    }
   ],
   "source": [
    "z = x.as_in_context(mx.gpu()) # this function will also copy data from cpu to gpu\n",
    "z"
   ]
  },
  {
   "cell_type": "code",
   "execution_count": 10,
   "metadata": {},
   "outputs": [
    {
     "data": {
      "text/plain": [
       "True"
      ]
     },
     "execution_count": 10,
     "metadata": {},
     "output_type": "execute_result"
    }
   ],
   "source": [
    "# but if the source data and destination data is in same context.\n",
    "# these two variable will share data.\n",
    "y.as_in_context(mx.gpu()) is y # it is true"
   ]
  },
  {
   "cell_type": "code",
   "execution_count": 11,
   "metadata": {},
   "outputs": [
    {
     "data": {
      "text/plain": [
       "False"
      ]
     },
     "execution_count": 11,
     "metadata": {},
     "output_type": "execute_result"
    }
   ],
   "source": [
    "y.copyto(mx.gpu()) is y # it is false"
   ]
  },
  {
   "cell_type": "markdown",
   "metadata": {},
   "source": [
    "## Calculation In GPU"
   ]
  },
  {
   "cell_type": "code",
   "execution_count": 12,
   "metadata": {},
   "outputs": [
    {
     "data": {
      "text/plain": [
       "\n",
       "[ 20.085537 109.1963   445.2395  ]\n",
       "<NDArray 3 @gpu(0)>"
      ]
     },
     "execution_count": 12,
     "metadata": {},
     "output_type": "execute_result"
    }
   ],
   "source": [
    "(z + 2).exp() * y\n",
    "# z and y is in gpu(0), so the result is in gpu(0)"
   ]
  },
  {
   "cell_type": "code",
   "execution_count": 15,
   "metadata": {},
   "outputs": [
    {
     "data": {
      "text/plain": [
       "(\n",
       " [1. 2. 3.]\n",
       " <NDArray 3 @cpu(0)>, \n",
       " [1. 2. 3.]\n",
       " <NDArray 3 @gpu(0)>)"
      ]
     },
     "execution_count": 15,
     "metadata": {},
     "output_type": "execute_result"
    }
   ],
   "source": [
    "# x + y \n",
    "# x is in cpu(0), while y is in gpu(0).\n",
    "# we cannot calculation these two variable unless we make them in the same device"
   ]
  },
  {
   "cell_type": "markdown",
   "metadata": {},
   "source": [
    "## GPU Calculation With Gluon"
   ]
  },
  {
   "cell_type": "code",
   "execution_count": 16,
   "metadata": {},
   "outputs": [],
   "source": [
    "net = nn.Sequential()\n",
    "net.add(nn.Dense(1))\n",
    "\n",
    "net.initialize(ctx=mx.gpu()) # specify using gpu"
   ]
  },
  {
   "cell_type": "code",
   "execution_count": 17,
   "metadata": {},
   "outputs": [
    {
     "data": {
      "text/plain": [
       "\n",
       "[[0.0068339 ]\n",
       " [0.01366779]\n",
       " [0.02050169]]\n",
       "<NDArray 3x1 @gpu(0)>"
      ]
     },
     "execution_count": 17,
     "metadata": {},
     "output_type": "execute_result"
    }
   ],
   "source": [
    "net(y) # result is in gpu(0) [y is must in gpu(0) as well]"
   ]
  },
  {
   "cell_type": "code",
   "execution_count": 19,
   "metadata": {},
   "outputs": [
    {
     "data": {
      "text/plain": [
       "\n",
       "[[0.0068339]]\n",
       "<NDArray 1x1 @gpu(0)>"
      ]
     },
     "execution_count": 19,
     "metadata": {},
     "output_type": "execute_result"
    }
   ],
   "source": [
    "net[0].weight.data() # parameter is also in gpu(0)"
   ]
  },
  {
   "cell_type": "code",
   "execution_count": 29,
   "metadata": {},
   "outputs": [
    {
     "data": {
      "text/plain": [
       "\n",
       "[[1.0000000e+00 2.0000000e+00 3.0000000e+00 ... 4.9980000e+03\n",
       "  4.9990000e+03 5.0000000e+03]\n",
       " [5.0010000e+03 5.0020000e+03 5.0030000e+03 ... 9.9980000e+03\n",
       "  9.9990000e+03 1.0000000e+04]\n",
       " [1.0001000e+04 1.0002000e+04 1.0003000e+04 ... 1.4998000e+04\n",
       "  1.4999000e+04 1.5000000e+04]\n",
       " ...\n",
       " [2.4985000e+07 2.4985000e+07 2.4985004e+07 ... 2.4989996e+07\n",
       "  2.4990000e+07 2.4990000e+07]\n",
       " [2.4990000e+07 2.4990000e+07 2.4990004e+07 ... 2.4994996e+07\n",
       "  2.4995000e+07 2.4995000e+07]\n",
       " [2.4995000e+07 2.4995000e+07 2.4995004e+07 ... 2.4999996e+07\n",
       "  2.5000000e+07 2.5000000e+07]]\n",
       "<NDArray 5000x5000 @cpu(0)>"
      ]
     },
     "execution_count": 29,
     "metadata": {},
     "output_type": "execute_result"
    }
   ],
   "source": [
    "x = nd.arange(1, 250000001).reshape(5000, 5000)\n",
    "x"
   ]
  },
  {
   "cell_type": "code",
   "execution_count": 41,
   "metadata": {},
   "outputs": [
    {
     "data": {
      "text/plain": [
       "2.123569965362549"
      ]
     },
     "execution_count": 41,
     "metadata": {},
     "output_type": "execute_result"
    }
   ],
   "source": [
    "from time import time\n",
    "start = time()\n",
    "for i in range(10000):\n",
    "    nd.dot(x+i, x+i+10)\n",
    "time() - start"
   ]
  },
  {
   "cell_type": "code",
   "execution_count": 42,
   "metadata": {},
   "outputs": [],
   "source": [
    "y = x.copyto(mx.gpu())"
   ]
  },
  {
   "cell_type": "code",
   "execution_count": 43,
   "metadata": {
    "scrolled": true
   },
   "outputs": [
    {
     "data": {
      "text/plain": [
       "0.9835190773010254"
      ]
     },
     "execution_count": 43,
     "metadata": {},
     "output_type": "execute_result"
    }
   ],
   "source": [
    "start = time()\n",
    "for i in range(10000):\n",
    "    nd.dot(y+i, y+i+10000)    \n",
    "time() - start"
   ]
  },
  {
   "cell_type": "markdown",
   "metadata": {},
   "source": [
    "It seems that GPU is a little faster....but not obvious.  \n",
    "Prohapsly, my GPU is extreamly bad, as my graphics card is low!!!"
   ]
  }
 ],
 "metadata": {
  "kernelspec": {
   "display_name": "Python 3",
   "language": "python",
   "name": "python3"
  },
  "language_info": {
   "codemirror_mode": {
    "name": "ipython",
    "version": 3
   },
   "file_extension": ".py",
   "mimetype": "text/x-python",
   "name": "python",
   "nbconvert_exporter": "python",
   "pygments_lexer": "ipython3",
   "version": "3.7.6"
  }
 },
 "nbformat": 4,
 "nbformat_minor": 4
}
