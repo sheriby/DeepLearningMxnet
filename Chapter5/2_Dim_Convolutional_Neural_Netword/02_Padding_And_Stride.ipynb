{
 "cells": [
  {
   "cell_type": "markdown",
   "metadata": {},
   "source": [
    "# Padding And Stride\n",
    "Generally speaking, if the shape of input array is $n_h \\times n_w$ and the shape of convolutional kernel is $k_h \\times k_w$, then the shape of output will be \n",
    "$$(n_h - k_h + 1) \\times (n_w - k_w + 1)$$\n",
    "Therefore, it is obvious that the shape of output is based on the shape of input array and convolutional kernel. And Here we can use two hyperparameters--`Padding` and `Stride` to change the shape of ouput."
   ]
  },
  {
   "cell_type": "markdown",
   "metadata": {},
   "source": [
    "## Padding\n",
    "Padding means that **Fill element in both sizes of height and width of the input array.**(Usually the element is **0**). Using this method, we can change the shape of the input array and thus change the shape of the output array.\n",
    "Generally speaking, if we fill **$p_h$** row in the height and **$p_w$** column in the width. Then the shape of the output will be\n",
    "$$(n_h - k_h + p_h + 1) \\times (n_w - k_w + p_w + 1)$$"
   ]
  },
  {
   "cell_type": "markdown",
   "metadata": {},
   "source": [
    "In most of conditions, we will set $p_h = k_h - 1$ and $p_w = k_w - 1$ to make the output array has same height and width. If $p_h$ is odd number, we will padding $p_h/2$ row in both size of height. If $p_h$ is even number, we will padding $\\lceil\\ p_h/2\\ \\rceil$ row in top size and pdding $\\lfloor\\ p_h/2\\ \\rfloor$. $p_w$ is similiar to."
   ]
  },
  {
   "cell_type": "markdown",
   "metadata": {},
   "source": [
    "In convolutional neural network, we usually use convolutional kernel with odd height and odd weight in order to fill same row or column in both size of input array."
   ]
  },
  {
   "cell_type": "code",
   "execution_count": 1,
   "metadata": {},
   "outputs": [],
   "source": [
    "from mxnet import nd\n",
    "from mxnet.gluon import nn\n",
    "\n",
    "def comp_conv2d(conv2d, X):\n",
    "    conv2d.initialize()\n",
    "    # (1, 1) is (batch size, input channel)\n",
    "    X = X.reshape((1, 1) + X.shape)\n",
    "    Y = conv2d(X)\n",
    "    return Y.reshape(Y.shape[2:]) # we don't care batch and channel."
   ]
  },
  {
   "cell_type": "code",
   "execution_count": 3,
   "metadata": {},
   "outputs": [
    {
     "data": {
      "text/plain": [
       "(\n",
       " [[-0.06256178 -0.09904493 -0.11462069 -0.10958998 -0.11530884 -0.09538846\n",
       "   -0.13933021 -0.07300068]\n",
       "  [-0.10297676 -0.09107448 -0.11557326 -0.10646068 -0.09553634 -0.11536771\n",
       "   -0.10047348 -0.10115992]\n",
       "  [-0.10416785 -0.09356382 -0.10309993 -0.11092824 -0.09902157 -0.12812988\n",
       "   -0.11414162 -0.09742625]\n",
       "  [-0.07878069 -0.09598286 -0.13506491 -0.14008842 -0.10255884 -0.0409402\n",
       "   -0.08713823 -0.09875607]\n",
       "  [-0.06977114 -0.05111624 -0.14842217 -0.18322015 -0.11075516 -0.08928336\n",
       "   -0.10557627 -0.14974608]\n",
       "  [-0.06935526 -0.13167302 -0.13425887 -0.15752698 -0.10922915 -0.08902965\n",
       "   -0.1485052  -0.1471145 ]\n",
       "  [-0.08393946 -0.0775817  -0.13235074 -0.11993448 -0.07310575 -0.07542198\n",
       "   -0.16076644 -0.15447451]\n",
       "  [-0.03555337 -0.06718652 -0.06924605 -0.08524746 -0.05071026 -0.0582796\n",
       "   -0.11333675 -0.12508884]]\n",
       " <NDArray 8x8 @cpu(0)>,\n",
       " (8, 8))"
      ]
     },
     "execution_count": 3,
     "metadata": {},
     "output_type": "execute_result"
    }
   ],
   "source": [
    "conv2d = nn.Conv2D(1, kernel_size=3, padding=1)\n",
    "X = nd.random.uniform(shape=(8, 8))\n",
    "res = comp_conv2d(conv2d, X)\n",
    "res, res.shape\n",
    "# 8 - 3 + 2*1 + 1 = 8"
   ]
  },
  {
   "cell_type": "code",
   "execution_count": 4,
   "metadata": {},
   "outputs": [
    {
     "data": {
      "text/plain": [
       "(\n",
       " [[-0.00169125 -0.00055382  0.02917683  0.01714304  0.00317774 -0.03453059\n",
       "   -0.00069594 -0.08437222]\n",
       "  [ 0.10024851  0.10300636  0.09602271  0.04890191  0.13544294  0.13924623\n",
       "    0.14110294  0.05181999]\n",
       "  [ 0.09051705  0.12255095  0.1211229   0.03626147 -0.07294307  0.06117541\n",
       "    0.03945564 -0.02849666]\n",
       "  [ 0.03555307  0.08351961  0.07025355  0.02763554  0.0807179   0.09488013\n",
       "    0.14003743 -0.03143229]\n",
       "  [ 0.1672343   0.07894029  0.10358943  0.06295635  0.0534299   0.07317081\n",
       "    0.02725464 -0.06231045]\n",
       "  [ 0.00325631  0.05805361  0.11988317  0.08409937  0.05095429  0.1584141\n",
       "    0.10947303  0.03709077]\n",
       "  [ 0.10309917  0.10780871  0.10606222  0.09415109  0.07980575  0.06905907\n",
       "    0.14058888  0.08032064]\n",
       "  [ 0.02491656  0.02208806  0.07619483  0.04288628  0.02049207  0.04815392\n",
       "    0.0828262   0.06229701]]\n",
       " <NDArray 8x8 @cpu(0)>,\n",
       " (8, 8))"
      ]
     },
     "execution_count": 4,
     "metadata": {},
     "output_type": "execute_result"
    }
   ],
   "source": [
    "conv2d = nn.Conv2D(1, kernel_size=(5, 3), padding=(2, 1))\n",
    "res = comp_conv2d(conv2d, X)\n",
    "res, res.shape\n",
    "# 8 - 5 + 2*2 + 1 = 8\n",
    "# 8 - 3 + 2*2 + 1 = 8"
   ]
  },
  {
   "cell_type": "markdown",
   "metadata": {},
   "source": [
    "## Stride\n",
    "When doing 2D corss-correlation operation, the convolutional window move from left to right and from top to bottom. The number of row or column that we move each time is `Stride`.\n",
    "At present, each time we move one step. Therefore, the stride is 1. We can use bigger stride, and then the output array will be smaller."
   ]
  },
  {
   "cell_type": "markdown",
   "metadata": {},
   "source": [
    "Generally speaking, when the stride in height and weight are $s_h$ and $s_w$, the shape of output array as follows.\n",
    "$$\\left\\lfloor(n_h - k_h + p_h + s_h)\\ /\\ s_h\\right\\rfloor \\times \\left\\lfloor(n_w - k_w + p_w + s_w)\\ /\\ s_w\\right\\rfloor$$\n",
    "Set $p_h = k_h - 1$, we can get \n",
    "$$\\lfloor(n_h + s_h -1)\\ /\\ s_h\\rfloor \\times \\lfloor(n_w + s_w - 1)\\ /\\ s_w\\rfloor$$\n",
    "And if $n_h mod s_h = 0$, we can get\n",
    "$$(n_h\\ /\\ s_h) \\times (n_w\\ /\\ s_w)$$"
   ]
  },
  {
   "cell_type": "code",
   "execution_count": 5,
   "metadata": {},
   "outputs": [
    {
     "data": {
      "text/plain": [
       "(\n",
       " [[-0.03526985 -0.09273676 -0.09267463 -0.06407098]\n",
       "  [-0.01072165 -0.00953091 -0.09443346 -0.07219329]\n",
       "  [ 0.03553703 -0.03799757 -0.08819461 -0.05097908]\n",
       "  [ 0.02876709 -0.02656859 -0.02240595 -0.0345718 ]]\n",
       " <NDArray 4x4 @cpu(0)>,\n",
       " (4, 4))"
      ]
     },
     "execution_count": 5,
     "metadata": {},
     "output_type": "execute_result"
    }
   ],
   "source": [
    "conv2d = nn.Conv2D(1, kernel_size=3, padding=1, strides=2)\n",
    "res = comp_conv2d(conv2d, X)\n",
    "res, res.shape\n",
    "# floor[(8 - 3 + 2*1 + 2)/2] = floor(9/2) = 4"
   ]
  },
  {
   "cell_type": "code",
   "execution_count": 6,
   "metadata": {},
   "outputs": [
    {
     "data": {
      "text/plain": [
       "(2, 2)"
      ]
     },
     "execution_count": 6,
     "metadata": {},
     "output_type": "execute_result"
    }
   ],
   "source": [
    "conv2d = nn.Conv2D(1, kernel_size=(3, 5), padding=(0, 1), strides=(3, 4))\n",
    "comp_conv2d(conv2d, X).shape\n",
    "# floor[(8 - 3 + 2*0 + 3)/3] = floor(8/3) = 2\n",
    "# floor[(8 - 5 + 2*1 + 4)/4] = florr(9/4) = 2"
   ]
  },
  {
   "cell_type": "markdown",
   "metadata": {},
   "source": [
    "For brevity, we say the padding is $(p_h, p_w)$ and the stride is $(s_h, s_w)$. If $p_h = p_w = p$ or $(s_h = s_w = s)$, we say that padding is $p$ or stride is $s$."
   ]
  }
 ],
 "metadata": {
  "kernelspec": {
   "display_name": "Python 3",
   "language": "python",
   "name": "python3"
  },
  "language_info": {
   "codemirror_mode": {
    "name": "ipython",
    "version": 3
   },
   "file_extension": ".py",
   "mimetype": "text/x-python",
   "name": "python",
   "nbconvert_exporter": "python",
   "pygments_lexer": "ipython3",
   "version": "3.7.6"
  }
 },
 "nbformat": 4,
 "nbformat_minor": 4
}
