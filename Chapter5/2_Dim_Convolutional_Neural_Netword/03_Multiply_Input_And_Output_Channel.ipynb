{
 "cells": [
  {
   "cell_type": "markdown",
   "metadata": {},
   "source": [
    "# Multi-Input And Multi-Ouput Channel\n",
    "Before input array and output array used are all 2d array, but there may be more dimension in true data. For example, colorful image has three other color channel RGB apart from height and width. Therefore, it can be represented as 3d array(3 * h * w) and we call 3 here as `channel`."
   ]
  },
  {
   "cell_type": "markdown",
   "metadata": {},
   "source": [
    "## Multi-Input Channel\n",
    "When there are multi-input channel, we shall construct a same multiply kernel channel to do corss-correlation operation. "
   ]
  },
  {
   "cell_type": "markdown",
   "metadata": {},
   "source": [
    "The following is the example about the corss-correlation operation of multi-input channel.  \n",
    "Here is a input array with two channel.\n",
    "$$\\left[\\begin{bmatrix}0&1&2\\\\3&4&5\\\\6&7&8\\end{bmatrix},\\quad\n",
    "\\begin{bmatrix}1&2&3\\\\4&5&6\\\\7&8&9\\end{bmatrix}\\right]$$\n",
    "Here is a kernel array with two channel as well.\n",
    "$$\\left[\\begin{bmatrix}0&1\\\\2&3\\end{bmatrix},\\quad \\begin{bmatrix}1&2\\\\3&4\\end{bmatrix}\\right]$$\n",
    "In each channel, do corss-correlation with 2d input array and 2d kernel array and then add the result by channel. That is the result.\n",
    "$$\\begin{bmatrix}0&1&2\\\\3&4&5\\\\6&7&8\\end{bmatrix} * \\begin{bmatrix}0&1\\\\2&3\\end{bmatrix}$$\n",
    "$$+$$\n",
    "$$\\begin{bmatrix}1&2&3\\\\4&5&6\\\\7&8&9\\end{bmatrix} * \\begin{bmatrix}1&2\\\\3&4\\end{bmatrix}$$\n",
    "$$=$$\n",
    "$$\\begin{bmatrix}56&72\\\\104&120\\end{bmatrix}$$"
   ]
  },
  {
   "cell_type": "code",
   "execution_count": 1,
   "metadata": {},
   "outputs": [],
   "source": [
    "import d2lzh as d2l\n",
    "from mxnet import nd\n",
    "\n",
    "def corr2d_multi_in(X, K):\n",
    "    return nd.add_n(*[d2l.corr2d(x, k) for x, k in zip(X, K)])"
   ]
  },
  {
   "cell_type": "code",
   "execution_count": 5,
   "metadata": {},
   "outputs": [
    {
     "data": {
      "text/plain": [
       "\n",
       "[[[0. 1. 2.]\n",
       "  [3. 4. 5.]\n",
       "  [6. 7. 8.]]\n",
       "\n",
       " [[1. 2. 3.]\n",
       "  [4. 5. 6.]\n",
       "  [7. 8. 9.]]]\n",
       "<NDArray 2x3x3 @cpu(0)>"
      ]
     },
     "execution_count": 5,
     "metadata": {},
     "output_type": "execute_result"
    }
   ],
   "source": [
    "X = nd.array([[[0, 1, 2], [3, 4, 5], [6, 7, 8]], [[1, 2, 3], [4, 5, 6], [7, 8, 9]]])\n",
    "X"
   ]
  },
  {
   "cell_type": "code",
   "execution_count": 6,
   "metadata": {},
   "outputs": [
    {
     "data": {
      "text/plain": [
       "\n",
       "[[[0. 1.]\n",
       "  [2. 3.]]\n",
       "\n",
       " [[1. 2.]\n",
       "  [3. 4.]]]\n",
       "<NDArray 2x2x2 @cpu(0)>"
      ]
     },
     "execution_count": 6,
     "metadata": {},
     "output_type": "execute_result"
    }
   ],
   "source": [
    "K = nd.array([[[0, 1], [2, 3]], [[1, 2],[3, 4]]])\n",
    "K"
   ]
  },
  {
   "cell_type": "code",
   "execution_count": 7,
   "metadata": {},
   "outputs": [
    {
     "data": {
      "text/plain": [
       "\n",
       "[[ 56.  72.]\n",
       " [104. 120.]]\n",
       "<NDArray 2x2 @cpu(0)>"
      ]
     },
     "execution_count": 7,
     "metadata": {},
     "output_type": "execute_result"
    }
   ],
   "source": [
    "corr2d_multi_in(X, K)"
   ]
  },
  {
   "cell_type": "markdown",
   "metadata": {},
   "source": [
    "## Multi-Output Channel\n",
    "When there are multiply input channel, the output channel is always one due to accumulating all channel. To get multi-ouput channel, we can create $c_i \\times k_h \\times k_w$ for each channel and concatenate them. Therefore the shape of kernel array is $c_o \\times c_i \\times k_h \\times k_w$"
   ]
  },
  {
   "cell_type": "code",
   "execution_count": 8,
   "metadata": {},
   "outputs": [],
   "source": [
    "def corr2d_multi_in_out(X, K):\n",
    "    return nd.stack(*[corr2d_multi_in(X, k) for k in K])"
   ]
  },
  {
   "cell_type": "code",
   "execution_count": 9,
   "metadata": {},
   "outputs": [
    {
     "data": {
      "text/plain": [
       "(\n",
       " [[[[0. 1.]\n",
       "    [2. 3.]]\n",
       " \n",
       "   [[1. 2.]\n",
       "    [3. 4.]]]\n",
       " \n",
       " \n",
       "  [[[1. 2.]\n",
       "    [3. 4.]]\n",
       " \n",
       "   [[2. 3.]\n",
       "    [4. 5.]]]\n",
       " \n",
       " \n",
       "  [[[2. 3.]\n",
       "    [4. 5.]]\n",
       " \n",
       "   [[3. 4.]\n",
       "    [5. 6.]]]]\n",
       " <NDArray 3x2x2x2 @cpu(0)>,\n",
       " (3, 2, 2, 2))"
      ]
     },
     "execution_count": 9,
     "metadata": {},
     "output_type": "execute_result"
    }
   ],
   "source": [
    "K = nd.stack(K, K+1, K+2)\n",
    "K, K.shape"
   ]
  },
  {
   "cell_type": "code",
   "execution_count": 10,
   "metadata": {},
   "outputs": [
    {
     "data": {
      "text/plain": [
       "\n",
       "[[[ 56.  72.]\n",
       "  [104. 120.]]\n",
       "\n",
       " [[ 76. 100.]\n",
       "  [148. 172.]]\n",
       "\n",
       " [[ 96. 128.]\n",
       "  [192. 224.]]]\n",
       "<NDArray 3x2x2 @cpu(0)>"
      ]
     },
     "execution_count": 10,
     "metadata": {},
     "output_type": "execute_result"
    }
   ],
   "source": [
    "corr2d_multi_in_out(X, K)"
   ]
  },
  {
   "cell_type": "markdown",
   "metadata": {},
   "source": [
    "## $1 \\times 1$ Convolutional Layer\n",
    "If $k_h = k_w = 1$, usually we call it as $1 \\times 1$ convolutional layer and coovolutional operation here is called as $1 \\times 1$ convolution.  \n",
    "$1\\times 1$ is the smallest window size, so it loss the featrue of it's approaching element.  \n",
    "**$1 \\times 1$ convolutional layer is equivalent to fully connectional layer**."
   ]
  },
  {
   "cell_type": "code",
   "execution_count": 13,
   "metadata": {},
   "outputs": [],
   "source": [
    "def corr2d_multi_in_out_1x1(X, K):\n",
    "    c_i, h, w = X.shape\n",
    "    c_o = K.shape[0]\n",
    "    X = X.reshape((c_i, h*w)) # data sample\n",
    "    K = K.reshape((c_o, c_i)) # feature \n",
    "    Y = nd.dot(K, X) # matrix dot in fully connectional layer\n",
    "    return Y.reshape((c_o, h, w))"
   ]
  },
  {
   "cell_type": "code",
   "execution_count": 14,
   "metadata": {},
   "outputs": [
    {
     "data": {
      "text/plain": [
       "True"
      ]
     },
     "execution_count": 14,
     "metadata": {},
     "output_type": "execute_result"
    }
   ],
   "source": [
    "X = nd.random.uniform(shape=(3, 3, 3))\n",
    "K = nd.random.uniform(shape=(2, 3, 1, 1))\n",
    "Y1 = corr2d_multi_in_out_1x1(X, K)\n",
    "Y2 = corr2d_multi_in_out(X, K)\n",
    "\n",
    "(Y1 - Y2).norm().asscalar() < 1e-6"
   ]
  }
 ],
 "metadata": {
  "kernelspec": {
   "display_name": "Python 3",
   "language": "python",
   "name": "python3"
  },
  "language_info": {
   "codemirror_mode": {
    "name": "ipython",
    "version": 3
   },
   "file_extension": ".py",
   "mimetype": "text/x-python",
   "name": "python",
   "nbconvert_exporter": "python",
   "pygments_lexer": "ipython3",
   "version": "3.7.6"
  }
 },
 "nbformat": 4,
 "nbformat_minor": 4
}
